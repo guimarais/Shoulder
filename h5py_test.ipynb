{
 "cells": [
  {
   "cell_type": "code",
   "execution_count": 33,
   "metadata": {},
   "outputs": [],
   "source": [
    "import pickle\n",
    "import h5py\n",
    "import numpy as np"
   ]
  },
  {
   "cell_type": "code",
   "execution_count": 6,
   "metadata": {},
   "outputs": [],
   "source": [
    "with open('Equilibrium/EQH.34875','rb') as f:\n",
    "    R, Z, t, pfm, psi0, psix = pickle.load(f)"
   ]
  },
  {
   "cell_type": "code",
   "execution_count": 44,
   "metadata": {},
   "outputs": [],
   "source": [
    "hf = h5py.File('./Equilibrium/data.h5', 'w')\n",
    "#eq = hf.create_group('EQH')\n",
    "shotnr = np.array([34875])\n",
    "hf.create_dataset('shotnr', data=shotnr, compression=\"gzip\", compression_opts=9)\n",
    "hf.create_dataset('R', data=R, compression=\"gzip\", compression_opts=9)\n",
    "hf.create_dataset('Z', data=Z, compression=\"gzip\", compression_opts=9)\n",
    "hf.create_dataset('t', data=t, compression=\"gzip\", compression_opts=9)\n",
    "hf.create_dataset('pfm', data=pfm, compression=\"gzip\", compression_opts=9)\n",
    "hf.create_dataset('psi0', data=psi0, compression=\"gzip\", compression_opts=9)\n",
    "hf.create_dataset('psix', data=psix, compression=\"gzip\", compression_opts=9)\n",
    "hf.close()"
   ]
  },
  {
   "cell_type": "code",
   "execution_count": 22,
   "metadata": {},
   "outputs": [],
   "source": [
    "hf = h5py.File('./Equilibrium/data.h5', 'r')"
   ]
  },
  {
   "cell_type": "code",
   "execution_count": 23,
   "metadata": {},
   "outputs": [
    {
     "data": {
      "text/plain": [
       "[u'EQH']"
      ]
     },
     "execution_count": 23,
     "metadata": {},
     "output_type": "execute_result"
    }
   ],
   "source": [
    "hf.keys()"
   ]
  },
  {
   "cell_type": "code",
   "execution_count": 43,
   "metadata": {},
   "outputs": [],
   "source": [
    "hf.close()"
   ]
  },
  {
   "cell_type": "code",
   "execution_count": 49,
   "metadata": {},
   "outputs": [],
   "source": [
    "def eqildatah5py(fname):        \n",
    "    hf = h5py.File(fname, 'r')\n",
    "    \n",
    "    shotnr = np.array(hf['shotnr'])\n",
    "    R = np.array(hf['R'])\n",
    "    Z = np.array(hf['Z'])\n",
    "    t = np.array(hf['t'])\n",
    "    pfm = np.array(hf['pfm'])\n",
    "    psi0 = np.array(hf['psi0'])\n",
    "    psix = np.array(hf['psix'])\n",
    "    \n",
    "    hf.close()\n",
    "    \n",
    "    class objview(object):\n",
    "        def __init__(self, d):\n",
    "            self.__dict__=d\n",
    "        \n",
    "    return objview({'shotnr':shotnr,\n",
    "                    'R':R,\n",
    "                    'Z':Z,\n",
    "                    't':t,\n",
    "                    'pfm':pfm,\n",
    "                    'psi0':psi0,\n",
    "                    'psix':psix})"
   ]
  },
  {
   "cell_type": "code",
   "execution_count": 51,
   "metadata": {},
   "outputs": [],
   "source": [
    "eqh = eqildatah5py('./Equilibrium/data.h5')"
   ]
  },
  {
   "cell_type": "code",
   "execution_count": 52,
   "metadata": {},
   "outputs": [
    {
     "data": {
      "text/plain": [
       "array([ 0.75      ,  0.77999997,  0.81      ,  0.83999997,  0.87      ,\n",
       "        0.89999998,  0.93000001,  0.95999998,  0.99000001,  1.01999998,\n",
       "        1.04999995,  1.08000004,  1.11000001,  1.13999999,  1.16999996,\n",
       "        1.20000005,  1.23000002,  1.25999999,  1.28999996,  1.32000005,\n",
       "        1.35000002,  1.38      ,  1.40999997,  1.44000006,  1.47000003,\n",
       "        1.5       ,  1.52999997,  1.55999994,  1.59000003,  1.62      ,\n",
       "        1.64999998,  1.67999995,  1.71000004,  1.74000001,  1.76999998,\n",
       "        1.79999995,  1.83000004,  1.86000001,  1.88999999,  1.91999996,\n",
       "        1.95000005,  1.98000002,  2.00999999,  2.03999996,  2.06999993,\n",
       "        2.0999999 ,  2.13000011,  2.16000009,  2.19000006,  2.22000003,\n",
       "        2.25      ,  2.27999997,  2.30999994,  2.33999991,  2.36999989,\n",
       "        2.4000001 ,  2.43000007,  2.46000004,  2.49000001,  2.51999998,\n",
       "        2.54999995,  2.57999992,  2.6099999 ,  2.6400001 ,  2.67000008], dtype=float32)"
      ]
     },
     "execution_count": 52,
     "metadata": {},
     "output_type": "execute_result"
    }
   ],
   "source": [
    "eqh.R"
   ]
  },
  {
   "cell_type": "code",
   "execution_count": 54,
   "metadata": {},
   "outputs": [],
   "source": [
    "hf = h5py.File('./Equilibrium/EQH34875.h5', 'r')"
   ]
  },
  {
   "cell_type": "code",
   "execution_count": null,
   "metadata": {},
   "outputs": [],
   "source": []
  }
 ],
 "metadata": {
  "kernelspec": {
   "display_name": "Python 2",
   "language": "python",
   "name": "python2"
  },
  "language_info": {
   "codemirror_mode": {
    "name": "ipython",
    "version": 2
   },
   "file_extension": ".py",
   "mimetype": "text/x-python",
   "name": "python",
   "nbconvert_exporter": "python",
   "pygments_lexer": "ipython2",
   "version": "2.7.15"
  }
 },
 "nbformat": 4,
 "nbformat_minor": 2
}
