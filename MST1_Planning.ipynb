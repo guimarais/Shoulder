{
 "cells": [
  {
   "cell_type": "code",
   "execution_count": 1,
   "metadata": {},
   "outputs": [],
   "source": [
    "import matplotlib.pyplot as plt\n",
    "import numpy as np\n",
    "plt.style.use('helvetpres2')"
   ]
  },
  {
   "cell_type": "code",
   "execution_count": 27,
   "metadata": {},
   "outputs": [],
   "source": [
    "dtot = ([0,1,1,2,3,4,5,6,6],\n",
    "        [0,0,2,2,2,2,2,2,0])\n",
    "ntot =  ([0,3,3,4.5,4.5,6,6],\n",
    "         [0,0,1,1,2,2,0])\n",
    "tria = ([0,1,2,3,4,5,6],\n",
    "        [0.5,0.5,1.0,1.5,1.5,1.5,1.5])"
   ]
  },
  {
   "cell_type": "code",
   "execution_count": 33,
   "metadata": {},
   "outputs": [
    {
     "data": {
      "image/png": "[encoded data removed]",
      "text/plain": [
       "<Figure size 432x288 with 1 Axes>"
      ]
     },
     "metadata": {},
     "output_type": "display_data"
    }
   ],
   "source": [
    "plt.plot(dtot[0][:], dtot[1][:], label='D')\n",
    "plt.plot(ntot[0][:], ntot[1][:], label='N')\n",
    "plt.plot(tria[0][:], tria[1][:], label=r'$\\mathrm{\\delta_u}$')\n",
    "plt.xlabel('time [s]')\n",
    "plt.ylim(bottom=0)\n",
    "plt.legend(loc='best', handlelength=0.5)\n",
    "plt.show()"
   ]
  },
  {
   "cell_type": "code",
   "execution_count": 20,
   "metadata": {},
   "outputs": [
    {
     "data": {
      "text/plain": [
       "[0, 1, 1, 2, 3, 4, 5, 6, 6]"
      ]
     },
     "execution_count": 20,
     "metadata": {},
     "output_type": "execute_result"
    }
   ],
   "source": [
    "dtot[0][:]"
   ]
  },
  {
   "cell_type": "code",
   "execution_count": null,
   "metadata": {},
   "outputs": [],
   "source": []
  }
 ],
 "metadata": {
  "kernelspec": {
   "display_name": "Python 2",
   "language": "python",
   "name": "python2"
  },
  "language_info": {
   "codemirror_mode": {
    "name": "ipython",
    "version": 2
   },
   "file_extension": ".py",
   "mimetype": "text/x-python",
   "name": "python",
   "nbconvert_exporter": "python",
   "pygments_lexer": "ipython2",
   "version": "2.7.15"
  }
 },
 "nbformat": 4,
 "nbformat_minor": 2
}
